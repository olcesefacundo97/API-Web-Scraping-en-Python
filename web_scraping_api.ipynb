{
 "cells": [
  {
   "cell_type": "code",
   "execution_count": 1,
   "metadata": {},
   "outputs": [],
   "source": [
    "import requests\n",
    "from bs4 import BeautifulSoup"
   ]
  },
  {
   "cell_type": "code",
   "execution_count": 6,
   "metadata": {},
   "outputs": [],
   "source": [
    "def get_metadata(url):\n",
    "    response = requests.get(url)\n",
    "    soup = BeautifulSoup(response.text, \"html.parser\")\n",
    "    \n",
    "    title = soup.find(\"title\").text\n",
    "    description = soup.find(\"meta\", {\"name\": \"description\"})\n",
    "    if description is not None:\n",
    "        description = description[\"content\"]\n",
    "    else:\n",
    "        description = \"\" #Or set a default value\n",
    "    \n",
    "    images = []\n",
    "    for img in soup.find_all(\"img\"):\n",
    "        images.append({\n",
    "            \"src\": img[\"src\"],\n",
    "            \"alt\": img[\"alt\"]\n",
    "        })\n",
    "    \n",
    "    return{\n",
    "        \"title\": title,\n",
    "        \"description\": description,\n",
    "        \"url\": url,\n",
    "        \"images\": images\n",
    "    }"
   ]
  },
  {
   "cell_type": "code",
   "execution_count": 7,
   "metadata": {},
   "outputs": [
    {
     "name": "stdout",
     "output_type": "stream",
     "text": [
      "{'title': 'Google', 'description': '', 'url': 'https://www.google.com', 'images': [{'src': '/images/branding/googlelogo/1x/googlelogo_white_background_color_272x92dp.png', 'alt': 'Google'}]}\n"
     ]
    }
   ],
   "source": [
    "url = \"https://www.google.com\"\n",
    "\n",
    "metadata = get_metadata(url)\n",
    "\n",
    "print(metadata)"
   ]
  }
 ],
 "metadata": {
  "kernelspec": {
   "display_name": "Python 3",
   "language": "python",
   "name": "python3"
  },
  "language_info": {
   "codemirror_mode": {
    "name": "ipython",
    "version": 3
   },
   "file_extension": ".py",
   "mimetype": "text/x-python",
   "name": "python",
   "nbconvert_exporter": "python",
   "pygments_lexer": "ipython3",
   "version": "3.11.5"
  }
 },
 "nbformat": 4,
 "nbformat_minor": 2
}
